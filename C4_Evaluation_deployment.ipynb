{
 "cells": [
  {
   "cell_type": "markdown",
   "id": "evaluation",
   "metadata": {},
   "source": [
    "# 5. EVALUATION (Avaliação)"
   ]
  },
  {
   "cell_type": "markdown",
   "id": "c266afb2",
   "metadata": {},
   "source": [
    "## Bibliotecas / Configuração"
   ]
  },
  {
   "cell_type": "code",
   "execution_count": 1,
   "id": "caa4ee0b",
   "metadata": {},
   "outputs": [
    {
     "name": "stdout",
     "output_type": "stream",
     "text": [
      "Ambiente Preparado\n"
     ]
    }
   ],
   "source": [
    "### Mapeando bibliotecas necessárias\n",
    "# Manipulação dos dados\n",
    "import pandas as pd\n",
    "import numpy as np\n",
    "import calendar\n",
    "\n",
    "# Visualização dos dados\n",
    "import matplotlib.pyplot as plt\n",
    "import seaborn as sns\n",
    "\n",
    "# Configuração\n",
    "pd.set_option('display.max_columns', None)\n",
    "pd.set_option('display.max_rows', 100)\n",
    "pd.set_option('display.width', None)\n",
    "\n",
    "print('Ambiente Preparado')"
   ]
  },
  {
   "cell_type": "markdown",
   "id": "005acc38",
   "metadata": {},
   "source": [
    "## Carregamento dos Dados"
   ]
  },
  {
   "cell_type": "code",
   "execution_count": 2,
   "id": "4dd3a1e8",
   "metadata": {},
   "outputs": [
    {
     "name": "stdout",
     "output_type": "stream",
     "text": [
      "Dataset carregado\n",
      "Dataset carregado: 73,156 registros e 33 colunas\n"
     ]
    }
   ],
   "source": [
    "# Caminho do arquivo\n",
    "file_path = './dados/processed/abt01.csv'\n",
    "\n",
    "# Carregando o dataset\n",
    "abt01 = pd.read_csv(file_path)\n",
    "\n",
    "print('Dataset carregado')\n",
    "print(f\"Dataset carregado: {abt01.shape[0]:,} registros e {abt01.shape[1]} colunas\")"
   ]
  },
  {
   "cell_type": "markdown",
   "id": "a7dd7e6e",
   "metadata": {},
   "source": [
    "## Síntese dos Achados Críticos"
   ]
  },
  {
   "cell_type": "code",
   "execution_count": 3,
   "id": "key-findings",
   "metadata": {},
   "outputs": [
    {
     "name": "stdout",
     "output_type": "stream",
     "text": [
      "🎯 ACHADOS CRÍTICOS PARA REDUÇÃO DE ACIDENTES\n",
      "============================================================\n",
      "⏰ PADRÕES TEMPORAIS CRÍTICOS:\n",
      "   • Hora mais letal: 19h\n",
      "   • Dia mais perigoso: domingo\n",
      "   • Mês com mais acidentes: December\n",
      "\n",
      "🗺️ LOCAIS PRIORITÁRIOS:\n",
      "   • BR crítica: BR-101\n",
      "   • Estado crítico: MG\n",
      "\n",
      "⚠️ PRINCIPAIS FATORES DE RISCO:\n",
      "   • Causa #1: Reação tardia ou ineficiente do condutor\n",
      "   • Tipo #1: Colisão traseira\n",
      "\n",
      "📊 MÉTRICAS DE IMPACTO:\n",
      "   • Taxa de mortalidade geral: 3.24%\n",
      "   • Percentual de acidentes graves: 23.13%\n"
     ]
    }
   ],
   "source": [
    "# Consolidação dos principais achados para ação\n",
    "print(\"🎯 ACHADOS CRÍTICOS PARA REDUÇÃO DE ACIDENTES\")\n",
    "print(\"=\"*60)\n",
    "\n",
    "# Padrões temporais críticos\n",
    "hora_critica = abt01.groupby('horario')['mortos'].sum().idxmax()\n",
    "dia_critico = abt01['dia_semana'].value_counts().idxmax()\n",
    "mes_critico = abt01.groupby('mes').size().idxmax()\n",
    "\n",
    "print(\"⏰ PADRÕES TEMPORAIS CRÍTICOS:\")\n",
    "print(f\"   • Hora mais letal: {hora_critica}h\")\n",
    "print(f\"   • Dia mais perigoso: {dia_critico}\")\n",
    "print(f\"   • Mês com mais acidentes: {mes_critico}\")\n",
    "\n",
    "# Locais prioritários\n",
    "br_prioritaria = abt01['br'].value_counts().index[0]\n",
    "uf_prioritaria = abt01['uf'].value_counts().index[0]\n",
    "\n",
    "print(\"\\n🗺️ LOCAIS PRIORITÁRIOS:\")\n",
    "print(f\"   • BR crítica: BR-{br_prioritaria}\")\n",
    "print(f\"   • Estado crítico: {uf_prioritaria}\")\n",
    "\n",
    "# Principais causas\n",
    "causa_principal = abt01['causa_acidente'].value_counts().index[0]\n",
    "tipo_principal = abt01['tipo_acidente'].value_counts().index[0]\n",
    "\n",
    "print(\"\\n⚠️ PRINCIPAIS FATORES DE RISCO:\")\n",
    "print(f\"   • Causa #1: {causa_principal}\")\n",
    "print(f\"   • Tipo #1: {tipo_principal}\")\n",
    "\n",
    "# Métricas de impacto\n",
    "taxa_mortalidade_geral = (abt01['mortos'].sum() / abt01['pessoas'].sum() * 100)\n",
    "acidentes_graves_pct = (abt01['acidente_grave'].sum() / len(abt01) * 100)\n",
    "\n",
    "print(\"\\n📊 MÉTRICAS DE IMPACTO:\")\n",
    "print(f\"   • Taxa de mortalidade geral: {taxa_mortalidade_geral:.2f}%\")\n",
    "print(f\"   • Percentual de acidentes graves: {acidentes_graves_pct:.2f}%\")"
   ]
  },
  {
   "cell_type": "markdown",
   "id": "deployment",
   "metadata": {},
   "source": [
    "# 6. DEPLOYMENT (Implantação)\n",
    "\n",
    "## Recomendações Estratégicas para Redução de Acidentes"
   ]
  },
  {
   "cell_type": "code",
   "execution_count": 4,
   "id": "recommendations",
   "metadata": {},
   "outputs": [
    {
     "name": "stdout",
     "output_type": "stream",
     "text": [
      "🚀 PLANO DE AÇÃO PARA REDUÇÃO DE ACIDENTES\n",
      "============================================================\n",
      "\n",
      "1️⃣ AÇÕES IMEDIATAS (0-3 meses):\n",
      "   • Intensificar fiscalização nos horários críticos\n",
      "   • Foco especial na BR-101 e estado MG\n",
      "   • Campanhas educativas sobre as principais causas\n",
      "   • Operações especiais nos finais de semana\n",
      "\n",
      "2️⃣ AÇÕES DE MÉDIO PRAZO (3-12 meses):\n",
      "   • Melhorias de infraestrutura nos pontos críticos\n",
      "   • Sistema de monitoramento inteligente\n",
      "   • Treinamento especializado para equipes\n",
      "   • Parcerias com órgãos estaduais\n",
      "\n",
      "3️⃣ AÇÕES ESTRATÉGICAS (1-3 anos):\n",
      "   • Implementação de IA para predição de acidentes\n",
      "   • Modernização da frota e equipamentos\n",
      "   • Centro integrado de comando e controle\n",
      "   • Programa nacional de educação no trânsito\n",
      "\n",
      "📊 INDICADORES DE SUCESSO:\n",
      "   • Redução de 15% nos acidentes em 12 meses\n",
      "   • Redução de 20% na mortalidade em 18 meses\n",
      "   • Melhoria de 25% no tempo de resposta\n",
      "   • Aumento de 30% na efetividade das operações\n",
      "\n",
      "🔄 MONITORAMENTO CONTÍNUO:\n",
      "   • Dashboard em tempo real\n",
      "   • Relatórios mensais de progresso\n",
      "   • Revisão trimestral das estratégias\n",
      "   • Análise anual de impacto\n"
     ]
    }
   ],
   "source": [
    "print(\"🚀 PLANO DE AÇÃO PARA REDUÇÃO DE ACIDENTES\")\n",
    "print(\"=\"*60)\n",
    "\n",
    "print(\"\\n1️⃣ AÇÕES IMEDIATAS (0-3 meses):\")\n",
    "print(\"   • Intensificar fiscalização nos horários críticos\")\n",
    "print(f\"   • Foco especial na BR-{br_prioritaria} e estado {uf_prioritaria}\")\n",
    "print(\"   • Campanhas educativas sobre as principais causas\")\n",
    "print(\"   • Operações especiais nos finais de semana\")\n",
    "\n",
    "print(\"\\n2️⃣ AÇÕES DE MÉDIO PRAZO (3-12 meses):\")\n",
    "print(\"   • Melhorias de infraestrutura nos pontos críticos\")\n",
    "print(\"   • Sistema de monitoramento inteligente\")\n",
    "print(\"   • Treinamento especializado para equipes\")\n",
    "print(\"   • Parcerias com órgãos estaduais\")\n",
    "\n",
    "print(\"\\n3️⃣ AÇÕES ESTRATÉGICAS (1-3 anos):\")\n",
    "print(\"   • Implementação de IA para predição de acidentes\")\n",
    "print(\"   • Modernização da frota e equipamentos\")\n",
    "print(\"   • Centro integrado de comando e controle\")\n",
    "print(\"   • Programa nacional de educação no trânsito\")\n",
    "\n",
    "print(\"\\n📊 INDICADORES DE SUCESSO:\")\n",
    "print(\"   • Redução de 15% nos acidentes em 12 meses\")\n",
    "print(\"   • Redução de 20% na mortalidade em 18 meses\")\n",
    "print(\"   • Melhoria de 25% no tempo de resposta\")\n",
    "print(\"   • Aumento de 30% na efetividade das operações\")\n",
    "\n",
    "print(\"\\n🔄 MONITORAMENTO CONTÍNUO:\")\n",
    "print(\"   • Dashboard em tempo real\")\n",
    "print(\"   • Relatórios mensais de progresso\")\n",
    "print(\"   • Revisão trimestral das estratégias\")\n",
    "print(\"   • Análise anual de impacto\")"
   ]
  }
 ],
 "metadata": {
  "kernelspec": {
   "display_name": "prf_ven",
   "language": "python",
   "name": "python3"
  },
  "language_info": {
   "codemirror_mode": {
    "name": "ipython",
    "version": 3
   },
   "file_extension": ".py",
   "mimetype": "text/x-python",
   "name": "python",
   "nbconvert_exporter": "python",
   "pygments_lexer": "ipython3",
   "version": "3.11.9"
  }
 },
 "nbformat": 4,
 "nbformat_minor": 5
}
