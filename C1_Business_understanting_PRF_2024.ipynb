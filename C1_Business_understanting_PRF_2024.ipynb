{
 "cells": [
  {
   "cell_type": "markdown",
   "id": "9db042ed",
   "metadata": {},
   "source": [
    "# Análise de Dados PRF 2024 - Redução de Acidentes nas BRs\n",
    "\n",
    "**Case:** Polícia Rodoviária Federal (PRF)  \n",
    "**Objetivo:** Reduzir acidentes nas rodovias federais brasileiras  \n",
    "**Metodologia:** CRISP-DM  \n",
    "**Data:** 2024\n",
    "\n",
    "---\n",
    "\n",
    "**Fonte: Polícia Rodoviária Federal**\n",
    "- https://www.gov.br/prf/pt-br/acesso-a-informacao/dados-abertos/dados-abertos-da-prf"
   ]
  },
  {
   "cell_type": "markdown",
   "id": "1452ec43",
   "metadata": {},
   "source": [
    "## Metodologia CRISP-DM\n",
    "\n",
    "1. Business Understanding (Entendimento do Negócio)\n",
    "2. Data Understanding (Entendimento dos Dados)\n",
    "3. Data Preparation (Preparação dos Dados)\n",
    "4. Modeling (Modelagem)\n",
    "5. Evaluation (Avaliação)\n",
    "6. Deployment (Implantação)"
   ]
  },
  {
   "cell_type": "markdown",
   "id": "165b3bb7",
   "metadata": {},
   "source": [
    "# 1. BUSINESS UNDERSTANDING (Entendimento do Negócio)\n",
    "\n",
    "## Contexto do Negócio\n",
    "A PRF é responsável pela segurança nas rodovias federais brasileiras. Os acidentes de trânsito representam um grave problema de saúde pública e segurança viária.\n",
    "\n",
    "## Objetivos de Negócio\n",
    "- **Primário:** Reduzir o número de acidentes nas rodovias federais\n",
    "- **Secundário:** Diminuir mortalidade e ferimentos graves\n",
    "- **Terciário:** Otimizar recursos de fiscalização e prevenção\n",
    "\n",
    "## Questões de Negócio\n",
    "1. Quais são os principais fatores que contribuem para acidentes?\n",
    "2. Onde e quando ocorrem mais acidentes?\n",
    "3. Qual o perfil dos acidentes mais graves?\n",
    "4. Como otimizar a alocação de recursos preventivos?\n",
    "\n",
    "## Critérios de Sucesso\n",
    "- Identificar padrões acionáveis para redução de acidentes\n",
    "- Priorizar ações preventivas baseadas em dados\n",
    "- Fornecer insights para tomada de decisão estratégica"
   ]
  },
  {
   "cell_type": "markdown",
   "id": "93b831da",
   "metadata": {},
   "source": [
    "## Dados"
   ]
  },
  {
   "cell_type": "markdown",
   "id": "b2816de4",
   "metadata": {},
   "source": [
    "| ID | NOME DA VARIÁVEL | DESCRIÇÃO |\n",
    "| :---: | :--- | :--- |\n",
    "| 1 | **id** | Variável com valores numéricos, representando o identificador do acidente. |\n",
    "| 2 | **data\\_inversa** | Data da ocorrência no formato dd/mm/aaaa. |\n",
    "| 3 | **dia\\_semana** | Dia da semana da ocorrência. Ex.: Segunda, Terça, etc. |\n",
    "| 4 | **horario** | Horário da ocorrência no formato hh:mm:ss. |\n",
    "| 5 | **uf** | Unidade da Federação. Ex.: MG, PE, DF, etc. |\n",
    "| 6 | **br** | Variável com valores numéricos, representando o identificador da BR do acidente. |\n",
    "| 7 | **km** | Identificação do quilômetro onde ocorreu o acidente, com valor mínimo de 0,1 km e com a casa decimal separada por ponto. |\n",
    "| 8 | **municipio** | Nome do município de ocorrência do acidente. |\n",
    "| 9 | **causa\\_acidente** | Identificação da causa principal do acidente. Neste conjunto de dados são excluídos os acidentes com a variável causa principal igual a \"Não\". |\n",
    "| 10 | **tipo\\_acidente** | Identificação do tipo de acidente. Ex.: Colisão frontal, Saída de pista, etc. Neste conjunto de dados são excluídos os tipos de acidentes com ordem maior ou igual a dois. A ordem do acidente demonstra a sequência cronológica dos tipos presentes na mesma ocorrência. |\n",
    "| 11 | **classificacao\\_acidente** | Classificação quanto à gravidade da ocorrência: Sem Vítimas, Com Vítimas Feridas, Com Vítimas Fatais e Ignorado. |\n",
    "| 12 | **fase\\_dia** | Fase do dia no momento do acidente. Ex. Amanhecer, Pleno dia, etc. |\n",
    "| 13 | **sentido\\_via** | Sentido da via considerando o ponto de colisão: Crescente e decrescente. |\n",
    "| 14 | **condicao\\_meteorologica** | Condição meteorológica no momento do acidente: Céu claro, chuva, vento, etc. |\n",
    "| 15 | **tipo\\_pista** | Tipo da pista considerando a quantidade de faixas: Dupla, simples ou múltipla. |\n",
    "| 16 | **tracado\\_via** | Descrição do traçado da via. |\n",
    "| 17 | **uso\\_solo** | Descrição sobre as características do local do acidente: Urbano=Sim;Rural=Não. |\n",
    "| 18 | **latitude** | Latitude do local do acidente em formato geodésico decimal. |\n",
    "| 19 | **longitude** | Longitude do local do acidente em formato geodésico decimal. |\n",
    "| 20 | **pessoas** | Total de pessoas envolvidas na ocorrência. |\n",
    "| 21 | **mortos** | Total de pessoas mortas envolvidas na ocorrência. |\n",
    "| 22 | **feridos\\_leves** | Total de pessoas com ferimentos leves envolvidas na ocorrência. |\n",
    "| 23 | **feridos\\_graves** | Total de pessoas com ferimentos graves envolvidas na ocorrência. |\n",
    "| 24 | **feridos** | Total de pessoas feridas envolvidas na ocorrência (é a soma dos feridos leves com os graves). |\n",
    "| 25 | **ilesos** | Total de pessoas ilesas envolvidas na ocorrência. |\n",
    "| 26 | **ignorados** | Total de pessoas envolvidas na ocorrência e que não se soube o estado físico. |\n",
    "| 27 | **veiculos** | Total de veículos envolvidos na ocorrência. |"
   ]
  }
 ],
 "metadata": {
  "kernelspec": {
   "display_name": "prf_ven",
   "language": "python",
   "name": "python3"
  },
  "language_info": {
   "codemirror_mode": {
    "name": "ipython",
    "version": 3
   },
   "file_extension": ".py",
   "mimetype": "text/x-python",
   "name": "python",
   "nbconvert_exporter": "python",
   "pygments_lexer": "ipython3",
   "version": "3.11.9"
  }
 },
 "nbformat": 4,
 "nbformat_minor": 5
}
